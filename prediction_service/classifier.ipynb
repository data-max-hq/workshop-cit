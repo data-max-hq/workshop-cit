{
 "cells": [
  {
   "cell_type": "code",
   "execution_count": 1,
   "metadata": {},
   "outputs": [
    {
     "name": "stdout",
     "output_type": "stream",
     "text": [
      "<class 'pandas.core.frame.DataFrame'>\n",
      "Int64Index: 1344 entries, 0 to 302\n",
      "Data columns (total 2 columns):\n",
      " #   Column   Non-Null Count  Dtype \n",
      "---  ------   --------------  ----- \n",
      " 0   message  1344 non-null   object\n",
      " 1   label    1344 non-null   object\n",
      "dtypes: object(2)\n",
      "memory usage: 31.5+ KB\n"
     ]
    }
   ],
   "source": [
    "import pandas as pd\n",
    "from sklearn.feature_extraction.text import CountVectorizer, TfidfTransformer\n",
    "from sklearn.naive_bayes import MultinomialNB\n",
    "from sklearn.pipeline import Pipeline\n",
    "# import glob\n",
    "# df = pd.concat([pd.read_csv(csv_file, header=0) for csv_file in glob.glob(\"enron/*.csv\")])\n",
    "\n",
    "# Files are read in different order by different systems\n",
    " \n",
    "it_emails = pd.read_csv(\"enron/it_labeled.csv\", header=0)\n",
    "legal_emails = pd.read_csv(\"enron/legal_labeled.csv\", header=0)\n",
    "sales_emails = pd.read_csv(\"enron/sales_and_marketing_labeled.csv\", header=0)\n",
    "hr_emails = pd.read_csv(\"enron/human_resources_labeled.csv\", header=0)\n",
    "df = pd.concat([it_emails, legal_emails, sales_emails, hr_emails])\n",
    "\n",
    "df.info()"
   ]
  },
  {
   "cell_type": "code",
   "execution_count": 2,
   "metadata": {},
   "outputs": [
    {
     "name": "stderr",
     "output_type": "stream",
     "text": [
      "[nltk_data] Error loading stopwords: <urlopen error [Errno -3]\n",
      "[nltk_data]     Temporary failure in name resolution>\n",
      "[nltk_data] <urlopen error [Errno -3] Temporary failure in name\n",
      "[nltk_data]     resolution>\n"
     ]
    },
    {
     "data": {
      "text/html": [
       "<div>\n",
       "<style scoped>\n",
       "    .dataframe tbody tr th:only-of-type {\n",
       "        vertical-align: middle;\n",
       "    }\n",
       "\n",
       "    .dataframe tbody tr th {\n",
       "        vertical-align: top;\n",
       "    }\n",
       "\n",
       "    .dataframe thead th {\n",
       "        text-align: right;\n",
       "    }\n",
       "</style>\n",
       "<table border=\"1\" class=\"dataframe\">\n",
       "  <thead>\n",
       "    <tr style=\"text-align: right;\">\n",
       "      <th></th>\n",
       "      <th>message</th>\n",
       "      <th>label</th>\n",
       "      <th>pro_message</th>\n",
       "    </tr>\n",
       "  </thead>\n",
       "  <tbody>\n",
       "    <tr>\n",
       "      <th>0</th>\n",
       "      <td>Lucy, I want to have an accurate rent roll as ...</td>\n",
       "      <td>Information Technology</td>\n",
       "      <td>lucy want accurate rent roll soon possible fax...</td>\n",
       "    </tr>\n",
       "    <tr>\n",
       "      <th>1</th>\n",
       "      <td>Mary, I transferred $10,000 out of the checkin...</td>\n",
       "      <td>Information Technology</td>\n",
       "      <td>mary transferred 10 000 checking account monda...</td>\n",
       "    </tr>\n",
       "    <tr>\n",
       "      <th>2</th>\n",
       "      <td>I just spoke to the insurance company. They ar...</td>\n",
       "      <td>Information Technology</td>\n",
       "      <td>spoke insurance company going cancel prorate p...</td>\n",
       "    </tr>\n",
       "    <tr>\n",
       "      <th>3</th>\n",
       "      <td>I just spoke to the insurance company. They ar...</td>\n",
       "      <td>Information Technology</td>\n",
       "      <td>spoke insurance company going cancel prorate p...</td>\n",
       "    </tr>\n",
       "    <tr>\n",
       "      <th>4</th>\n",
       "      <td>Lucy, Somehow my email account lost the rentro...</td>\n",
       "      <td>Information Technology</td>\n",
       "      <td>lucy somehow email account lost rentroll sent ...</td>\n",
       "    </tr>\n",
       "    <tr>\n",
       "      <th>5</th>\n",
       "      <td>Susan, Raised your issue to Sally Beck. Larry ...</td>\n",
       "      <td>Information Technology</td>\n",
       "      <td>susan raised issue sally beck larry going spen...</td>\n",
       "    </tr>\n",
       "    <tr>\n",
       "      <th>6</th>\n",
       "      <td>buy 100 nov gas market sell 100 nov gas 2.635 ...</td>\n",
       "      <td>Information Technology</td>\n",
       "      <td>buy 100 nov gas market sell 100 nov gas 2 635 ...</td>\n",
       "    </tr>\n",
       "    <tr>\n",
       "      <th>7</th>\n",
       "      <td>sell 100 nov gas market buy 100 nov gas 2.705 ...</td>\n",
       "      <td>Information Technology</td>\n",
       "      <td>sell 100 nov gas market buy 100 nov gas 2 705 ...</td>\n",
       "    </tr>\n",
       "    <tr>\n",
       "      <th>8</th>\n",
       "      <td>go to market with 2.635 stop _________________...</td>\n",
       "      <td>Information Technology</td>\n",
       "      <td>go market 2 635 stop yahoo make great connecti...</td>\n",
       "    </tr>\n",
       "    <tr>\n",
       "      <th>9</th>\n",
       "      <td>buy 100 nov gas market sell 100 nov gas 2.94 s...</td>\n",
       "      <td>Information Technology</td>\n",
       "      <td>buy 100 nov gas market sell 100 nov gas 2 94 s...</td>\n",
       "    </tr>\n",
       "    <tr>\n",
       "      <th>10</th>\n",
       "      <td>go to market with 2.94 stop __________________...</td>\n",
       "      <td>Information Technology</td>\n",
       "      <td>go market 2 94 stop yahoo make great connectio...</td>\n",
       "    </tr>\n",
       "    <tr>\n",
       "      <th>11</th>\n",
       "      <td>The account numbers you needed are below: 1. 1...</td>\n",
       "      <td>Information Technology</td>\n",
       "      <td>account number needed 1 1st community credit u...</td>\n",
       "    </tr>\n",
       "    <tr>\n",
       "      <th>12</th>\n",
       "      <td>You sold 1000 TAS futures using Paribas floor ...</td>\n",
       "      <td>Information Technology</td>\n",
       "      <td>sold 1000 ta future using paribas floor given ...</td>\n",
       "    </tr>\n",
       "    <tr>\n",
       "      <th>13</th>\n",
       "      <td>You sold 1000 TAS futures with Paribas andI ga...</td>\n",
       "      <td>Information Technology</td>\n",
       "      <td>sold 1000 ta future paribas andi gave edf man ...</td>\n",
       "    </tr>\n",
       "    <tr>\n",
       "      <th>14</th>\n",
       "      <td>Because of computer glitch the API data summar...</td>\n",
       "      <td>Information Technology</td>\n",
       "      <td>computer glitch api data summary table incorre...</td>\n",
       "    </tr>\n",
       "    <tr>\n",
       "      <th>15</th>\n",
       "      <td>Alicia, Thanks for your help and please cancel...</td>\n",
       "      <td>Information Technology</td>\n",
       "      <td>alicia thanks help please cancel following acc...</td>\n",
       "    </tr>\n",
       "    <tr>\n",
       "      <th>16</th>\n",
       "      <td>I got the cashiers check for the full amount a...</td>\n",
       "      <td>Information Technology</td>\n",
       "      <td>got cashier check full amount deposited fideli...</td>\n",
       "    </tr>\n",
       "    <tr>\n",
       "      <th>17</th>\n",
       "      <td>Don Baughman at Enron Power Marketing, Inc. ha...</td>\n",
       "      <td>Information Technology</td>\n",
       "      <td>baughman enron power marketing inc given acces...</td>\n",
       "    </tr>\n",
       "    <tr>\n",
       "      <th>18</th>\n",
       "      <td>aahhhh! my computer shipping date has been \"re...</td>\n",
       "      <td>Information Technology</td>\n",
       "      <td>aahhhh computer shipping date revised dell ins...</td>\n",
       "    </tr>\n",
       "    <tr>\n",
       "      <th>19</th>\n",
       "      <td>Dear DON, Your user account has been activated...</td>\n",
       "      <td>Information Technology</td>\n",
       "      <td>dear user account activated learning managemen...</td>\n",
       "    </tr>\n",
       "  </tbody>\n",
       "</table>\n",
       "</div>"
      ],
      "text/plain": [
       "                                              message                   label  \\\n",
       "0   Lucy, I want to have an accurate rent roll as ...  Information Technology   \n",
       "1   Mary, I transferred $10,000 out of the checkin...  Information Technology   \n",
       "2   I just spoke to the insurance company. They ar...  Information Technology   \n",
       "3   I just spoke to the insurance company. They ar...  Information Technology   \n",
       "4   Lucy, Somehow my email account lost the rentro...  Information Technology   \n",
       "5   Susan, Raised your issue to Sally Beck. Larry ...  Information Technology   \n",
       "6   buy 100 nov gas market sell 100 nov gas 2.635 ...  Information Technology   \n",
       "7   sell 100 nov gas market buy 100 nov gas 2.705 ...  Information Technology   \n",
       "8   go to market with 2.635 stop _________________...  Information Technology   \n",
       "9   buy 100 nov gas market sell 100 nov gas 2.94 s...  Information Technology   \n",
       "10  go to market with 2.94 stop __________________...  Information Technology   \n",
       "11  The account numbers you needed are below: 1. 1...  Information Technology   \n",
       "12  You sold 1000 TAS futures using Paribas floor ...  Information Technology   \n",
       "13  You sold 1000 TAS futures with Paribas andI ga...  Information Technology   \n",
       "14  Because of computer glitch the API data summar...  Information Technology   \n",
       "15  Alicia, Thanks for your help and please cancel...  Information Technology   \n",
       "16  I got the cashiers check for the full amount a...  Information Technology   \n",
       "17  Don Baughman at Enron Power Marketing, Inc. ha...  Information Technology   \n",
       "18  aahhhh! my computer shipping date has been \"re...  Information Technology   \n",
       "19  Dear DON, Your user account has been activated...  Information Technology   \n",
       "\n",
       "                                          pro_message  \n",
       "0   lucy want accurate rent roll soon possible fax...  \n",
       "1   mary transferred 10 000 checking account monda...  \n",
       "2   spoke insurance company going cancel prorate p...  \n",
       "3   spoke insurance company going cancel prorate p...  \n",
       "4   lucy somehow email account lost rentroll sent ...  \n",
       "5   susan raised issue sally beck larry going spen...  \n",
       "6   buy 100 nov gas market sell 100 nov gas 2 635 ...  \n",
       "7   sell 100 nov gas market buy 100 nov gas 2 705 ...  \n",
       "8   go market 2 635 stop yahoo make great connecti...  \n",
       "9   buy 100 nov gas market sell 100 nov gas 2 94 s...  \n",
       "10  go market 2 94 stop yahoo make great connectio...  \n",
       "11  account number needed 1 1st community credit u...  \n",
       "12  sold 1000 ta future using paribas floor given ...  \n",
       "13  sold 1000 ta future paribas andi gave edf man ...  \n",
       "14  computer glitch api data summary table incorre...  \n",
       "15  alicia thanks help please cancel following acc...  \n",
       "16  got cashier check full amount deposited fideli...  \n",
       "17  baughman enron power marketing inc given acces...  \n",
       "18  aahhhh computer shipping date revised dell ins...  \n",
       "19  dear user account activated learning managemen...  "
      ]
     },
     "execution_count": 2,
     "metadata": {},
     "output_type": "execute_result"
    }
   ],
   "source": [
    "import nltk\n",
    "nltk.download('stopwords')\n",
    "nltk.download(['punkt', 'wordnet', 'averaged_perceptron_tagger'])\n",
    "from nltk.corpus import stopwords\n",
    "from nltk.stem.wordnet import WordNetLemmatizer\n",
    "from nltk.tokenize import word_tokenize\n",
    "import re\n",
    "\n",
    "stop_words = stopwords.words(\"english\")\n",
    "lemmatizer = WordNetLemmatizer()\n",
    "\n",
    "def tokenize(text):\n",
    "\n",
    "    #1. Normalize: Convert to lower case and remove punctuation\n",
    "    text = re.sub(r\"[^a-zA-Z0-9]\", \" \", text.lower().strip())\n",
    "    text = re.sub(\" +\", \" \",text)\n",
    "    \n",
    "    #2. Tokenizing: split text into words\n",
    "    tokens = word_tokenize(text)\n",
    "    \n",
    "    #3. Remove stop words: if a token is a stop word, then remove it\n",
    "    words = [w for w in tokens if w not in stopwords.words(\"english\")]\n",
    "    \n",
    "    #4. Lemmatize and Stemming\n",
    "    lemmed_words = [WordNetLemmatizer().lemmatize(w) for w in words]\n",
    "    \n",
    "    clean_tokens = []\n",
    "    \n",
    "    for i in lemmed_words:\n",
    "        clean_tokens.append(i)\n",
    "        \n",
    "    # back to string from list\n",
    "    text = \" \".join(clean_tokens)\n",
    "    return text\n",
    "\n",
    "df['pro_message'] = df['message'].apply(lambda x: tokenize(x))\n",
    "\n",
    "df.head(20)"
   ]
  },
  {
   "cell_type": "code",
   "execution_count": 3,
   "metadata": {},
   "outputs": [],
   "source": [
    "X_data = df[\"pro_message\"]\n",
    "y_data = df[\"label\"]\n",
    "\n",
    "from sklearn.model_selection import train_test_split\n",
    "\n",
    "X_train, X_test, y_train, y_test = train_test_split(X_data, y_data, test_size=0.20, random_state=29)"
   ]
  },
  {
   "cell_type": "code",
   "execution_count": 4,
   "metadata": {},
   "outputs": [
    {
     "name": "stdout",
     "output_type": "stream",
     "text": [
      "Model trained!\n"
     ]
    }
   ],
   "source": [
    "pipeline = Pipeline([\n",
    "    (\"vect\", CountVectorizer()),\n",
    "    (\"tfidf\", TfidfTransformer()),\n",
    "    (\"clf\", MultinomialNB())\n",
    "])\n",
    "\n",
    "model = pipeline.fit(X_train, y_train)\n",
    "\n",
    "print(\"Model trained!\")"
   ]
  },
  {
   "cell_type": "code",
   "execution_count": 5,
   "metadata": {},
   "outputs": [
    {
     "name": "stdout",
     "output_type": "stream",
     "text": [
      "Accuracy of the model is:  83.64 %\n"
     ]
    }
   ],
   "source": [
    "from sklearn.metrics import accuracy_score\n",
    "\n",
    "predicted_y = pipeline.predict(X_test)\n",
    "accuracy = accuracy_score(y_test, predicted_y)\n",
    "\n",
    "print(\"Accuracy of the model is: \", round(accuracy, 4) * 100, \"%\")"
   ]
  },
  {
   "cell_type": "code",
   "execution_count": 6,
   "metadata": {},
   "outputs": [
    {
     "data": {
      "text/plain": [
       "(array([0.5, 1.5, 2.5, 3.5]),\n",
       " [Text(0, 0.5, 'Human Resources'),\n",
       "  Text(0, 1.5, 'Information Technology'),\n",
       "  Text(0, 2.5, 'Legal'),\n",
       "  Text(0, 3.5, 'Marketing & Sales')])"
      ]
     },
     "execution_count": 6,
     "metadata": {},
     "output_type": "execute_result"
    },
    {
     "data": {
      "image/png": "[encoded data removed]",
      "text/plain": [
       "<Figure size 432x288 with 1 Axes>"
      ]
     },
     "metadata": {
      "needs_background": "light"
     },
     "output_type": "display_data"
    }
   ],
   "source": [
    "import matplotlib.pyplot as plt\n",
    "import seaborn as sns\n",
    "import numpy as np\n",
    "from sklearn.metrics import confusion_matrix\n",
    "\n",
    "classes = np.unique(y_test)\n",
    "\n",
    "cm = confusion_matrix(y_test, predicted_y)\n",
    "fig, ax = plt.subplots()\n",
    "\n",
    "sns.heatmap(cm, annot=True, fmt=\"d\", ax=ax, cmap=plt.cm.Blues, \n",
    "            cbar=False)\n",
    "ax.set(xlabel=\"predicted labels\", ylabel=\"True labels\", xticklabels=classes, \n",
    "       yticklabels=classes, title=\"Confusion matrix\")\n",
    "plt.yticks(rotation=0)"
   ]
  },
  {
   "cell_type": "code",
   "execution_count": 7,
   "metadata": {},
   "outputs": [
    {
     "data": {
      "text/plain": [
       "array(['Information Technology'], dtype='<U22')"
      ]
     },
     "execution_count": 7,
     "metadata": {},
     "output_type": "execute_result"
    }
   ],
   "source": [
    "model.predict([\"Im here to fix you internet connection and printer.\"])"
   ]
  }
 ],
 "metadata": {
  "interpreter": {
   "hash": "38af6972ed21f9636877b1f133306e8d6b1b1844e98bec6946f17bbbc2bd784e"
  },
  "kernelspec": {
   "display_name": "nlp",
   "language": "python",
   "name": "nlp"
  },
  "language_info": {
   "codemirror_mode": {
    "name": "ipython",
    "version": 3
   },
   "file_extension": ".py",
   "mimetype": "text/x-python",
   "name": "python",
   "nbconvert_exporter": "python",
   "pygments_lexer": "ipython3",
   "version": "3.8.10"
  }
 },
 "nbformat": 4,
 "nbformat_minor": 2
}
